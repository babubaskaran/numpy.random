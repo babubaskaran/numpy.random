{
 "cells": [
  {
   "cell_type": "markdown",
   "metadata": {},
   "source": [
    "# The numpy.random in Python"
   ]
  },
  {
   "cell_type": "markdown",
   "metadata": {},
   "source": [
    "The use of randomness is an important of the configuration and evaluation of machine learning algorithms.  The splitting of data into random train and test sets, generating random numbers and harnessing randomness.  Python use a popular and robust pesudorandom number generator called the Mersenne  Twister.  The pesudorandom number generator is a mathematical function that generates a sequence of nearly numbers."
   ]
  },
  {
   "cell_type": "code",
   "execution_count": 8,
   "metadata": {},
   "outputs": [
    {
     "data": {
      "text/plain": [
       "array([[0.65407115, 0.99256263],\n",
       "       [0.85987373, 0.78661732],\n",
       "       [0.63434628, 0.62866582]])"
      ]
     },
     "execution_count": 8,
     "metadata": {},
     "output_type": "execute_result"
    }
   ],
   "source": [
    "# Simple Random data example\n",
    "\n",
    "\n",
    "# The rand function will generate random number between 0 and 1 and number 4 and 2 is 3 rows and 2 coloumn arrays\n",
    "import numpy as np\n",
    "np.random.rand(3,2)"
   ]
  },
  {
   "cell_type": "code",
   "execution_count": 18,
   "metadata": {},
   "outputs": [
    {
     "data": {
      "text/plain": [
       "array([[ 2.20536187,  3.3735292 , -3.80330864,  4.85991288],\n",
       "       [ 2.54132665,  2.93229909, -0.97027052,  1.77087403]])"
      ]
     },
     "execution_count": 18,
     "metadata": {},
     "output_type": "execute_result"
    }
   ],
   "source": [
    "# Returns The matrix of random values drawn from the standard normal distribution.\n",
    "#np.random.randn(2,2)\n",
    "2.5 * np.random.randn(2, 4) + 3"
   ]
  },
  {
   "cell_type": "code",
   "execution_count": null,
   "metadata": {},
   "outputs": [],
   "source": []
  },
  {
   "cell_type": "code",
   "execution_count": null,
   "metadata": {},
   "outputs": [],
   "source": []
  }
 ],
 "metadata": {
  "kernelspec": {
   "display_name": "Python 3",
   "language": "python",
   "name": "python3"
  },
  "language_info": {
   "codemirror_mode": {
    "name": "ipython",
    "version": 3
   },
   "file_extension": ".py",
   "mimetype": "text/x-python",
   "name": "python",
   "nbconvert_exporter": "python",
   "pygments_lexer": "ipython3",
   "version": "3.7.4"
  }
 },
 "nbformat": 4,
 "nbformat_minor": 2
}
