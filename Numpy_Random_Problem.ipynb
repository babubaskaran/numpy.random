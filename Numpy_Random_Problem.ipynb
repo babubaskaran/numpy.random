{
 "cells": [
  {
   "cell_type": "markdown",
   "metadata": {},
   "source": [
    "# The numpy.random in Python"
   ]
  },
  {
   "cell_type": "markdown",
   "metadata": {},
   "source": [
    "The use of randomness is an important of the configuration and evaluation of machine learning algorithms.  The splitting of data into random train and test sets, generating random numbers and harnessing randomness.  Python use a popular and robust pesudorandom number generator called the Mersenne  Twister.  The pesudorandom number generator is a mathematical function that generates a sequence of nearly numbers."
   ]
  },
  {
   "cell_type": "code",
   "execution_count": 3,
   "metadata": {},
   "outputs": [
    {
     "data": {
      "text/plain": [
       "array([[0.96375905, 0.28193634],\n",
       "       [0.11975718, 0.78539378],\n",
       "       [0.3780225 , 0.07053997]])"
      ]
     },
     "execution_count": 3,
     "metadata": {},
     "output_type": "execute_result"
    }
   ],
   "source": [
    "# Simple Random data example\n",
    "\n",
    "\n",
    "# The rand function will generate random number between 0 and 1 and number 4 and 2 is 3 rows and 2 coloumn arrays\n",
    "import numpy as np\n",
    "np.random.rand(3,2)"
   ]
  },
  {
   "cell_type": "code",
   "execution_count": 4,
   "metadata": {},
   "outputs": [
    {
     "data": {
      "text/plain": [
       "array([[3.21078106, 1.63361632, 2.34535533, 3.9912391 ],\n",
       "       [2.57529502, 0.51382441, 7.41815124, 2.69201603]])"
      ]
     },
     "execution_count": 4,
     "metadata": {},
     "output_type": "execute_result"
    }
   ],
   "source": [
    "# Returns The matrix of random values drawn from the standard normal distribution.\n",
    "#np.random.randn(2,2)\n",
    "2.5 * np.random.randn(2, 4) + 3"
   ]
  },
  {
   "cell_type": "markdown",
   "metadata": {},
   "source": [
    "# Simple Random Data\n",
    "\n",
    "A simple random sample is a subset of individuals (a sample) chosen from a larger set (a population). Each individual is chosen randomly and entirely by chance, such that each individual has the same probability of being chosen at any stage during the sampling process, and each subset of k individuals has the same probability of being chosen for the sample as any other subset of k individuals.  This process and technique is known as simple random sampling. A simple random sample is an unbiased surveying technique."
   ]
  },
  {
   "cell_type": "code",
   "execution_count": 6,
   "metadata": {},
   "outputs": [
    {
     "data": {
      "text/plain": [
       "array([0, 0, 0, 0, 0, 0, 0, 0, 0, 0])"
      ]
     },
     "execution_count": 6,
     "metadata": {},
     "output_type": "execute_result"
    }
   ],
   "source": [
    "np.random.randint(1, size=10)"
   ]
  },
  {
   "cell_type": "markdown",
   "metadata": {},
   "source": [
    "The above code Return random integers from low (inclusive) to high (exclusive)."
   ]
  },
  {
   "cell_type": "code",
   "execution_count": 9,
   "metadata": {},
   "outputs": [
    {
     "data": {
      "text/plain": [
       "array([0.17934579, 0.15071245, 0.22397887, 0.20533532, 0.47764807])"
      ]
     },
     "execution_count": 9,
     "metadata": {},
     "output_type": "execute_result"
    }
   ],
   "source": [
    "np.random.random_sample((5,))"
   ]
  },
  {
   "cell_type": "markdown",
   "metadata": {},
   "source": [
    "The above code return random floats in the half-open interval [0.0, 1.0)."
   ]
  },
  {
   "cell_type": "markdown",
   "metadata": {},
   "source": [
    "# Permutation\n",
    "A random permutation is a random ordering of a set of objects, that is, a permutation-valued random variable. The use of random permutations is often fundamental to fields that use randomized algorithms such as coding theory, cryptography, and simulation. A good example of a random permutation is the shuffling of a deck of cards: this is ideally a random permutation of the 52 cards."
   ]
  },
  {
   "cell_type": "code",
   "execution_count": 14,
   "metadata": {},
   "outputs": [
    {
     "data": {
      "text/plain": [
       "array([7, 4, 6, 2, 5, 8, 1, 9, 3, 0])"
      ]
     },
     "execution_count": 14,
     "metadata": {},
     "output_type": "execute_result"
    }
   ],
   "source": [
    "np.random.permutation(10)"
   ]
  },
  {
   "cell_type": "markdown",
   "metadata": {},
   "source": [
    "The above code randomly permute a sequence"
   ]
  },
  {
   "cell_type": "code",
   "execution_count": 19,
   "metadata": {},
   "outputs": [
    {
     "data": {
      "text/plain": [
       "array([[3, 4, 5],\n",
       "       [0, 1, 2],\n",
       "       [6, 7, 8]])"
      ]
     },
     "execution_count": 19,
     "metadata": {},
     "output_type": "execute_result"
    }
   ],
   "source": [
    "arr = np.arange(9).reshape((3, 3))\n",
    "np.random.permutation(arr)"
   ]
  },
  {
   "cell_type": "markdown",
   "metadata": {},
   "source": [
    "The above code randomly arranging 0 to 9 as a array of 3 rows and 3 column"
   ]
  },
  {
   "cell_type": "markdown",
   "metadata": {},
   "source": [
    "# The Bionomial distribution\n",
    "\n",
    "The word “binomial” means “two numbers.” A binomial distribution for a random variable X is one in which there are only two possible outcomes, pass and fail, for a finite number of trials.  An example involves rolling a standard 6-sided die. Let’s say that we hope to roll a five. In this case, we define success as “rolling a 5” and failure as “not rolling a 5.” In this case, each roll of the die would be a trial.\n",
    "\n",
    "For the binomial distribution to be applied, each successive trial must be independent of the last; that is, the outcome of a previous trial has no bearing on the probabilities of success on subsequent trials. For the roll of a die, we know this to be true: just because a five rolled the last time does not change the probability of rolling a 5 on future rolls; the probability of success remains unchanged at 1 in 6."
   ]
  },
  {
   "cell_type": "markdown",
   "metadata": {},
   "source": [
    "A real world example. A company drills 9 wild-cat oil exploration wells, each with an estimated probability of success of 0.1. All nine wells fail. What is the probability of that happening?\n",
    "\n",
    "Let’s do 20,000 trials of the model, and count the number that generate zero positive results."
   ]
  },
  {
   "cell_type": "code",
   "execution_count": 22,
   "metadata": {},
   "outputs": [
    {
     "data": {
      "text/plain": [
       "0.38845"
      ]
     },
     "execution_count": 22,
     "metadata": {},
     "output_type": "execute_result"
    }
   ],
   "source": [
    "sum(np.random.binomial(9, 0.1, 20000) == 0)/20000"
   ]
  },
  {
   "cell_type": "markdown",
   "metadata": {},
   "source": [
    "The above example the probablity of all 9 wells fail is 38%"
   ]
  },
  {
   "cell_type": "code",
   "execution_count": 11,
   "metadata": {},
   "outputs": [
    {
     "data": {
      "text/plain": [
       "array([618, 670, 636, 640, 641, 636, 641, 620, 644, 631, 625, 637, 643,\n",
       "       675, 634, 627, 648, 643, 654, 652, 635, 608, 644, 660, 638, 651,\n",
       "       619, 643, 637, 629, 638, 652, 630, 619, 657, 605, 607, 638, 653,\n",
       "       630, 653, 619, 621, 670, 653, 615, 645, 636, 635, 630, 647, 653,\n",
       "       640, 649, 644, 629, 642, 649, 621, 618, 636, 627, 607, 663, 626,\n",
       "       648, 610, 617, 673, 632, 675, 646, 650, 680, 619, 630, 611, 668,\n",
       "       630, 586, 649, 633, 621, 647, 606, 632, 634, 639, 607, 625, 627,\n",
       "       634, 612, 683, 622, 671, 610, 648, 633, 629, 616, 634, 633, 628,\n",
       "       638, 635, 630, 618, 641, 631, 649, 595, 638, 670, 626, 649, 620,\n",
       "       625, 654, 645, 640, 631, 651, 659, 598, 645, 647, 650, 627, 641,\n",
       "       624, 625, 670, 631, 661, 627, 616, 648, 609, 665, 638, 628, 676,\n",
       "       661, 655, 612, 645, 635, 648, 646, 637, 618, 620, 632, 638, 667,\n",
       "       618, 614, 643, 650, 663, 634, 634, 609, 623, 641, 633, 618, 646,\n",
       "       661, 600, 609, 594, 626, 624, 635, 641, 625, 618, 658, 631, 660,\n",
       "       644, 631, 632, 613, 647, 660, 654, 614, 654, 641, 655, 631, 650,\n",
       "       639, 637, 618, 610, 621, 633, 644, 645, 619, 642, 647, 605, 630,\n",
       "       651, 636, 616, 637, 670, 641, 628, 649, 610, 627, 628, 630, 615,\n",
       "       675, 643, 645, 631, 645, 633, 619, 651, 632, 628, 618, 655, 667,\n",
       "       608, 631, 637, 633, 634, 627, 632, 636, 641, 629, 654, 624, 647,\n",
       "       642, 623, 611, 621, 642, 623, 652, 614, 647, 615, 613, 675, 607,\n",
       "       618, 655, 642, 631, 654, 660, 659, 675, 617, 653, 635, 632, 644,\n",
       "       632, 629, 630, 660, 633, 646, 636, 631, 630, 638, 594, 659, 628,\n",
       "       608, 626, 624, 615, 634, 658, 659, 603, 640, 612, 627, 660, 640,\n",
       "       624, 613, 647, 616, 623, 623, 652, 614, 616, 600, 622, 610, 647,\n",
       "       619, 636, 632, 664, 660, 650, 620, 649, 645, 658, 629, 597, 671,\n",
       "       652, 634, 614, 636, 654, 635, 642, 644, 623, 620, 633, 615, 627,\n",
       "       611, 626, 630, 637, 641, 636, 645, 626, 639, 651, 620, 648, 628,\n",
       "       634, 631, 653, 652, 631, 620, 666, 623, 651, 656, 631, 625, 634,\n",
       "       635, 628, 651, 649, 633, 662, 636, 658, 674, 640, 636, 637, 642,\n",
       "       630, 640, 652, 634, 637, 643, 601, 664, 623, 634, 673, 622, 636,\n",
       "       631, 628, 648, 636, 617, 632, 634, 636, 637, 618, 669, 643, 639,\n",
       "       629, 642, 660, 618, 631, 612, 641, 637, 691, 646, 637, 631, 657,\n",
       "       656, 619, 651, 649, 649, 653, 636, 614, 649, 666, 640, 636, 651,\n",
       "       679, 623, 632, 609, 656, 631, 629, 625, 642, 642, 641, 654, 645,\n",
       "       664, 611, 618, 643, 627, 612, 652, 657, 645, 614, 618, 635, 613,\n",
       "       651, 656, 646, 639, 627, 653, 648, 632, 650, 640, 633, 615, 634,\n",
       "       633, 633, 643, 616, 607, 614, 623, 648, 623, 639, 630, 665, 643,\n",
       "       642, 637, 666, 639, 643, 643, 637, 626, 622, 627, 634, 614, 650,\n",
       "       642, 613, 613, 626, 633, 640, 616, 651, 644, 636, 629, 616, 641,\n",
       "       659, 640, 660, 632, 634, 655, 641, 636, 652, 601, 654, 654, 628,\n",
       "       620, 658, 633, 620, 645, 599, 651, 628, 609, 628, 618, 638, 663,\n",
       "       583, 650, 662, 639, 627, 608, 621, 654, 644, 668, 661, 689, 665,\n",
       "       628, 627, 645, 665, 609, 645, 647, 632, 637, 632, 638, 616, 629,\n",
       "       617, 644, 624, 652, 617, 645, 614, 637, 628, 653, 614, 618, 668,\n",
       "       652, 639, 638, 627, 604, 644, 636, 620, 635, 629, 629, 632, 623,\n",
       "       638, 631, 661, 643, 640, 614, 636, 659, 583, 650, 642, 625, 631,\n",
       "       636, 627, 635, 631, 654, 603, 647, 623, 650, 644, 632, 622, 613,\n",
       "       622, 654, 641, 653, 658, 666, 636, 647, 637, 672, 609, 645, 643,\n",
       "       662, 646, 623, 621, 631, 622, 631, 660, 635, 619, 655, 646, 617,\n",
       "       600, 632, 643, 628, 637, 622, 620, 650, 627, 631, 656, 634, 651,\n",
       "       607, 623, 627, 651, 635, 656, 643, 631, 645, 608, 619, 632, 664,\n",
       "       643, 635, 648, 634, 628, 674, 627, 641, 625, 646, 620, 651, 618,\n",
       "       639, 674, 642, 613, 636, 631, 630, 628, 627, 661, 648, 597, 621,\n",
       "       650, 643, 663, 638, 587, 633, 641, 671, 636, 605, 651, 621, 639,\n",
       "       638, 644, 651, 619, 623, 649, 646, 617, 631, 634, 672, 650, 602,\n",
       "       628, 633, 636, 623, 603, 640, 646, 607, 639, 628, 644, 651, 645,\n",
       "       628, 646, 630, 603, 627, 627, 618, 633, 644, 621, 631, 604, 642,\n",
       "       654, 615, 656, 603, 655, 619, 644, 643, 658, 640, 614, 635, 621,\n",
       "       690, 614, 627, 640, 616, 636, 623, 619, 640, 640, 635, 655, 621,\n",
       "       618, 607, 644, 630, 646, 627, 643, 626, 612, 634, 619, 643, 659,\n",
       "       628, 646, 626, 672, 627, 624, 637, 658, 613, 629, 618, 632, 600,\n",
       "       630, 650, 634, 678, 604, 623, 650, 668, 632, 614, 632, 624, 625,\n",
       "       621, 644, 606, 629, 618, 645, 637, 594, 638, 641, 645, 636, 664,\n",
       "       628, 671, 663, 637, 636, 647, 639, 641, 626, 647, 655, 655, 618,\n",
       "       629, 674, 638, 658, 618, 668, 689, 641, 652, 641, 644, 636, 642,\n",
       "       653, 641, 631, 632, 643, 641, 648, 627, 635, 635, 648, 672, 660,\n",
       "       649, 633, 637, 620, 607, 628, 643, 650, 618, 618, 638, 630, 654,\n",
       "       661, 626, 642, 615, 638, 617, 657, 617, 662, 633, 650, 664, 611,\n",
       "       631, 626, 634, 630, 621, 607, 618, 616, 624, 628, 642, 659, 624,\n",
       "       647, 630, 650, 614, 634, 643, 628, 629, 635, 654, 676, 623, 632,\n",
       "       624, 622, 640, 634, 635, 630, 656, 636, 605, 649, 614, 678, 621,\n",
       "       616, 612, 641, 669, 643, 616, 625, 621, 630, 630, 639, 639, 642,\n",
       "       654, 616, 627, 616, 609, 623, 630, 657, 677, 636, 665, 623, 655,\n",
       "       610, 629, 643, 641, 619, 635, 645, 633, 642, 636, 637, 618, 644,\n",
       "       603, 633, 653, 605, 646, 623, 671, 639, 618, 639, 642, 666, 618,\n",
       "       612, 632, 639, 628, 643, 628, 607, 632, 657, 615, 616, 649, 652,\n",
       "       626, 611, 633, 639, 629, 632, 638, 647, 649, 629, 648, 635])"
      ]
     },
     "execution_count": 11,
     "metadata": {},
     "output_type": "execute_result"
    }
   ],
   "source": [
    "N = 1200\n",
    "p =0.53\n",
    "q = 1000\n",
    "\n",
    "np.random.binomial(N, p, size = q) \n",
    "np.random.binomial(1, p, size = q)\n",
    "np.random.binomial(N,p, size= q)"
   ]
  },
  {
   "cell_type": "markdown",
   "metadata": {},
   "source": [
    "    np.random.binomial(N, p, size = q)\n",
    "    np.random.binomial(1, p, size = q)\n",
    "    np.random.binomial(N,p, size= q)\n",
    "\n",
    "1st and 3rd are binomial random number generator\n",
    "\n",
    "And, 2nd one is bernoulli random number generator\n",
    "\n",
    "Explanation of binomial:\n",
    "\n",
    "A binomial random variable counts how often a particular event occurs in a fixed number of tries or trials.\n",
    "\n",
    "    n = number of trials\n",
    "    p = probability event of interest occurs on any one trial\n",
    "    size = number of times you want to run this experiment\n",
    "\n",
    "To check how many times you will get six if you roll dice 10 times. Here,\n",
    "\n",
    "    n = 10,\n",
    "    p = (1/6) # probability of getting six in each roll\n",
    "\n",
    "But, You have to do this experiment multiple times.\n",
    "\n",
    "Let, In 1st experiment, you get 3 six\n",
    "\n",
    "In 2nd expwriment, you get 2 six\n",
    "\n",
    "In 3rd experiment, you get 2 six\n",
    "\n",
    "In Pth experiment, you get 2 six, here P is the size"
   ]
  },
  {
   "cell_type": "markdown",
   "metadata": {},
   "source": [
    "# Exponential Distribution\n",
    "\n",
    "The exponential distribution is one of the widely used continuous distributions. It is often used to model the time elapsed between events.   i.e., a process in which events occur continuously and independently at a constant average rate. It is a particular case of the gamma distribution. It is the continuous analogue of the geometric distribution, and it has the key property of being memoryless. In addition to being used for the analysis of Poisson point processes it is found in various other contexts.   It describes many common situations, such as the size of raindrops measured over many rainstorms, or the time between page requests to Wikipedia."
   ]
  },
  {
   "cell_type": "code",
   "execution_count": 7,
   "metadata": {},
   "outputs": [
    {
     "data": {
      "image/png": "[encoded data removed]",
      "text/plain": [
       "<Figure size 432x288 with 1 Axes>"
      ]
     },
     "metadata": {
      "needs_background": "light"
     },
     "output_type": "display_data"
    }
   ],
   "source": [
    "import pylab as plt\n",
    "\n",
    "target = 250\n",
    "beta = 1.0/target\n",
    "\n",
    "Y = np.random.exponential(beta, 5000)\n",
    "plt.hist(Y, density=True, bins=200,lw=0,alpha=.8)\n",
    "plt.plot([0,max(Y)],[target,target],'r--')\n",
    "plt.ylim(0,target*1.1)\n",
    "plt.show()"
   ]
  },
  {
   "cell_type": "markdown",
   "metadata": {},
   "source": [
    "The above code plot intercepts the y-axis by controlling how the data is generated, without changing the histogram has been plotted.  The y-intercept of the histogram will change with different bin sizes. To achive the underlying probability distribution (the density=true)"
   ]
  },
  {
   "cell_type": "code",
   "execution_count": 8,
   "metadata": {},
   "outputs": [
    {
     "data": {
      "text/plain": [
       "array([2.73500402, 2.52600817, 3.7738706 , 4.12514553, 4.12185058,\n",
       "       4.31629372, 8.96216903, 4.86064848, 6.58692535, 3.47572404,\n",
       "       4.61579711, 3.05427725, 4.15623433, 6.52684387, 5.3975511 ,\n",
       "       7.68195956, 6.06396062, 3.78717386, 3.84077816, 4.57652613,\n",
       "       3.40365019, 4.03656015, 5.307849  , 1.90969304, 8.18826994,\n",
       "       4.09450271, 3.25673267, 5.51025458, 3.67686758, 5.68973139,\n",
       "       6.45607069, 3.60436031, 3.99260673, 3.73910022, 4.69740131,\n",
       "       2.82344103, 4.51823651, 2.93874446, 4.94744004, 2.59933463,\n",
       "       4.0330285 , 6.18442284, 4.75626329, 3.75659237, 3.47949935,\n",
       "       4.80027883, 4.09816453, 3.44572619, 2.62554707, 4.27287476,\n",
       "       1.68729926, 6.50825207, 4.47258116, 5.68325298, 4.87581361,\n",
       "       4.44283033, 2.90125438, 6.36793475, 3.15888259, 5.81657465,\n",
       "       8.02864333, 2.11783709, 3.91047599, 6.93258318, 5.12933089,\n",
       "       4.82231984, 3.58545864, 3.83736642, 5.20535765, 2.2542411 ,\n",
       "       3.05779877, 3.06055666, 3.98567751, 3.48648643, 6.22792967,\n",
       "       3.98765727, 5.84845152, 4.03352595, 3.06661606, 1.56742635,\n",
       "       3.11869817, 6.09521024, 6.93985543, 7.84725526, 4.76291312,\n",
       "       6.8201309 , 4.5861816 , 3.53269248, 6.86438836, 3.35725103,\n",
       "       3.82312994, 3.49597147, 5.88068464, 4.11755036, 4.35819511,\n",
       "       7.01514264, 1.92139912, 1.90118233, 5.84359613, 8.45625219])"
      ]
     },
     "execution_count": 8,
     "metadata": {},
     "output_type": "execute_result"
    }
   ],
   "source": [
    "import numpy.random as npr \n",
    "k = 5\n",
    "npr.exponential(scale=1,size=(100,k)).sum(axis=1)"
   ]
  },
  {
   "cell_type": "markdown",
   "metadata": {},
   "source": [
    "The above code will generate a 100*k array and sum up the rows  for k=5/CV=0.45:"
   ]
  },
  {
   "cell_type": "markdown",
   "metadata": {},
   "source": [
    "# Logistic Distribution\n",
    "\n",
    "The Logistic distribution is used in Extreme Value problems where it can act as a mixture of Gumbel distributions, in Epidemiology, and by the World Chess Federation (FIDE) where it is used in the Elo ranking system, assuming the performance of each player is a logistically distributed random variable.  The logistic distribution is a continuous probability distribution. Its cumulative distribution function is the logistic function, which appears in logistic regression and feedforward neural networks. It resembles the normal distribution in shape but has heavier tails (higher kurtosis). The logistic distribution is a special case of the Tukey lambda distribution. "
   ]
  },
  {
   "cell_type": "code",
   "execution_count": 16,
   "metadata": {},
   "outputs": [
    {
     "data": {
      "image/png": "[encoded data removed]",
      "text/plain": [
       "<Figure size 432x288 with 1 Axes>"
      ]
     },
     "metadata": {
      "needs_background": "light"
     },
     "output_type": "display_data"
    }
   ],
   "source": [
    "loc, scale = 10, 1\n",
    "s = np.random.logistic(loc, scale, 10000)\n",
    "count, bins, ignored = plt.hist(s, bins=50)"
   ]
  },
  {
   "cell_type": "markdown",
   "metadata": {},
   "source": [
    "The plot drawn samples from the logistic distribution in the histogram."
   ]
  },
  {
   "cell_type": "code",
   "execution_count": 25,
   "metadata": {},
   "outputs": [
    {
     "data": {
      "text/plain": [
       "array([3.19539048, 6.07609384, 2.50204379, 2.98365778, 3.05767384])"
      ]
     },
     "execution_count": 25,
     "metadata": {},
     "output_type": "execute_result"
    }
   ],
   "source": [
    "np.random.logistic(2.3, 1.2, 5)  # 5 numbers, location=2.3, scale=1.2"
   ]
  },
  {
   "cell_type": "markdown",
   "metadata": {},
   "source": [
    "Draw samples from a normal (gaussian) distribution. In the above example total number on array is 5 and loc array is 2.3  scale is 1.2"
   ]
  },
  {
   "cell_type": "markdown",
   "metadata": {},
   "source": [
    "# Power Distribution\n",
    "\n",
    "Draws samples in [0, 1] from a power distribution with positive exponent a - 1.\n",
    "Also known as the power function distribution.\n",
    "\n",
    "The probability density function is\n",
    "\n",
    "P(x; a) = ax^{a-1}, 0 \\le x \\le 1, a>0.\n",
    "\n",
    "The power function distribution is just the inverse of the Pareto distribution. It may also be seen as a special case of the Beta distribution.\n",
    "\n",
    "It is used, for example, in modeling the over-reporting of insurance claims."
   ]
  },
  {
   "cell_type": "code",
   "execution_count": 29,
   "metadata": {},
   "outputs": [
    {
     "data": {
      "image/png": "[encoded data removed]",
      "text/plain": [
       "<Figure size 432x288 with 1 Axes>"
      ]
     },
     "metadata": {
      "needs_background": "light"
     },
     "output_type": "display_data"
    }
   ],
   "source": [
    ">>> import matplotlib.pyplot as plt\n",
    ">>> count, bins, ignored = plt.hist(s, bins=30)\n",
    ">>> x = np.linspace(0, 1, 100)\n",
    ">>> y = a*x**(a-1.)\n",
    ">>> normed_y = samples*np.diff(bins)[0]*y\n",
    ">>> plt.plot(x, normed_y)\n",
    ">>> plt.show()"
   ]
  },
  {
   "cell_type": "code",
   "execution_count": null,
   "metadata": {},
   "outputs": [],
   "source": []
  }
 ],
 "metadata": {
  "kernelspec": {
   "display_name": "Python 3",
   "language": "python",
   "name": "python3"
  },
  "language_info": {
   "codemirror_mode": {
    "name": "ipython",
    "version": 3
   },
   "file_extension": ".py",
   "mimetype": "text/x-python",
   "name": "python",
   "nbconvert_exporter": "python",
   "pygments_lexer": "ipython3",
   "version": "3.7.1"
  }
 },
 "nbformat": 4,
 "nbformat_minor": 2
}
